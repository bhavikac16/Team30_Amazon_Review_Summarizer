{
 "cells": [
  {
   "cell_type": "code",
   "execution_count": 2,
   "id": "25d43459-30d8-4d1e-9407-16d964481e1c",
   "metadata": {},
   "outputs": [
    {
     "name": "stdout",
     "output_type": "stream",
     "text": [
      "Requirement already satisfied: selenium in d:\\downloads\\anaconda\\envs\\tensorflow\\lib\\site-packages (4.31.0)\n",
      "Requirement already satisfied: undetected-chromedriver in d:\\downloads\\anaconda\\envs\\tensorflow\\lib\\site-packages (3.5.5)\n",
      "Requirement already satisfied: pandas in d:\\downloads\\anaconda\\envs\\tensorflow\\lib\\site-packages (2.1.4)\n",
      "Requirement already satisfied: tqdm in d:\\downloads\\anaconda\\envs\\tensorflow\\lib\\site-packages (4.65.0)\n",
      "Requirement already satisfied: urllib3<3,>=1.26 in d:\\downloads\\anaconda\\envs\\tensorflow\\lib\\site-packages (from urllib3[socks]<3,>=1.26->selenium) (1.26.18)\n",
      "Requirement already satisfied: trio~=0.17 in d:\\downloads\\anaconda\\envs\\tensorflow\\lib\\site-packages (from selenium) (0.29.0)\n",
      "Requirement already satisfied: trio-websocket~=0.9 in d:\\downloads\\anaconda\\envs\\tensorflow\\lib\\site-packages (from selenium) (0.12.2)\n",
      "Requirement already satisfied: certifi>=2021.10.8 in d:\\downloads\\anaconda\\envs\\tensorflow\\lib\\site-packages (from selenium) (2024.2.2)\n",
      "Requirement already satisfied: typing_extensions~=4.9 in d:\\downloads\\anaconda\\envs\\tensorflow\\lib\\site-packages (from selenium) (4.12.2)\n",
      "Requirement already satisfied: websocket-client~=1.8 in d:\\downloads\\anaconda\\envs\\tensorflow\\lib\\site-packages (from selenium) (1.8.0)\n",
      "Requirement already satisfied: requests in d:\\downloads\\anaconda\\envs\\tensorflow\\lib\\site-packages (from undetected-chromedriver) (2.31.0)\n",
      "Requirement already satisfied: websockets in d:\\downloads\\anaconda\\envs\\tensorflow\\lib\\site-packages (from undetected-chromedriver) (14.1)\n",
      "Requirement already satisfied: numpy<2,>=1.22.4 in d:\\downloads\\anaconda\\envs\\tensorflow\\lib\\site-packages (from pandas) (1.26.3)\n",
      "Requirement already satisfied: python-dateutil>=2.8.2 in d:\\downloads\\anaconda\\envs\\tensorflow\\lib\\site-packages (from pandas) (2.8.2)\n",
      "Requirement already satisfied: pytz>=2020.1 in d:\\downloads\\anaconda\\envs\\tensorflow\\lib\\site-packages (from pandas) (2023.3.post1)\n",
      "Requirement already satisfied: tzdata>=2022.1 in d:\\downloads\\anaconda\\envs\\tensorflow\\lib\\site-packages (from pandas) (2023.3)\n",
      "Requirement already satisfied: colorama in d:\\downloads\\anaconda\\envs\\tensorflow\\lib\\site-packages (from tqdm) (0.4.6)\n",
      "Requirement already satisfied: six>=1.5 in d:\\downloads\\anaconda\\envs\\tensorflow\\lib\\site-packages (from python-dateutil>=2.8.2->pandas) (1.16.0)\n",
      "Requirement already satisfied: attrs>=23.2.0 in d:\\downloads\\anaconda\\envs\\tensorflow\\lib\\site-packages (from trio~=0.17->selenium) (25.3.0)\n",
      "Requirement already satisfied: sortedcontainers in d:\\downloads\\anaconda\\envs\\tensorflow\\lib\\site-packages (from trio~=0.17->selenium) (2.4.0)\n",
      "Requirement already satisfied: idna in d:\\downloads\\anaconda\\envs\\tensorflow\\lib\\site-packages (from trio~=0.17->selenium) (3.4)\n",
      "Requirement already satisfied: outcome in d:\\downloads\\anaconda\\envs\\tensorflow\\lib\\site-packages (from trio~=0.17->selenium) (1.3.0.post0)\n",
      "Requirement already satisfied: sniffio>=1.3.0 in d:\\downloads\\anaconda\\envs\\tensorflow\\lib\\site-packages (from trio~=0.17->selenium) (1.3.0)\n",
      "Requirement already satisfied: cffi>=1.14 in d:\\downloads\\anaconda\\envs\\tensorflow\\lib\\site-packages (from trio~=0.17->selenium) (1.16.0)\n",
      "Requirement already satisfied: exceptiongroup in d:\\downloads\\anaconda\\envs\\tensorflow\\lib\\site-packages (from trio~=0.17->selenium) (1.2.0)\n",
      "Requirement already satisfied: wsproto>=0.14 in d:\\downloads\\anaconda\\envs\\tensorflow\\lib\\site-packages (from trio-websocket~=0.9->selenium) (1.2.0)\n",
      "Requirement already satisfied: PySocks!=1.5.7,<2.0,>=1.5.6 in d:\\downloads\\anaconda\\envs\\tensorflow\\lib\\site-packages (from urllib3[socks]<3,>=1.26->selenium) (1.7.1)\n",
      "Requirement already satisfied: charset-normalizer<4,>=2 in d:\\downloads\\anaconda\\envs\\tensorflow\\lib\\site-packages (from requests->undetected-chromedriver) (2.0.4)\n",
      "Requirement already satisfied: pycparser in d:\\downloads\\anaconda\\envs\\tensorflow\\lib\\site-packages (from cffi>=1.14->trio~=0.17->selenium) (2.21)\n",
      "Requirement already satisfied: h11<1,>=0.9.0 in d:\\downloads\\anaconda\\envs\\tensorflow\\lib\\site-packages (from wsproto>=0.14->trio-websocket~=0.9->selenium) (0.14.0)\n",
      "Note: you may need to restart the kernel to use updated packages.\n"
     ]
    }
   ],
   "source": [
    "pip install selenium undetected-chromedriver pandas tqdm\n"
   ]
  },
  {
   "cell_type": "code",
   "execution_count": null,
   "id": "02b086cc-8a2b-443d-b382-d836ee61d598",
   "metadata": {},
   "outputs": [],
   "source": []
  },
  {
   "cell_type": "code",
   "execution_count": 11,
   "id": "3ecfa8ba-026a-4489-b042-f5574659fba4",
   "metadata": {},
   "outputs": [
    {
     "name": "stdout",
     "output_type": "stream",
     "text": [
      "Collecting webdriver-manager\n",
      "  Downloading webdriver_manager-4.0.2-py2.py3-none-any.whl.metadata (12 kB)\n",
      "Requirement already satisfied: requests in d:\\downloads\\anaconda\\envs\\tensorflow\\lib\\site-packages (from webdriver-manager) (2.31.0)\n",
      "Collecting python-dotenv (from webdriver-manager)\n",
      "  Downloading python_dotenv-1.1.0-py3-none-any.whl.metadata (24 kB)\n",
      "Requirement already satisfied: packaging in d:\\downloads\\anaconda\\envs\\tensorflow\\lib\\site-packages (from webdriver-manager) (23.1)\n",
      "Requirement already satisfied: charset-normalizer<4,>=2 in d:\\downloads\\anaconda\\envs\\tensorflow\\lib\\site-packages (from requests->webdriver-manager) (2.0.4)\n",
      "Requirement already satisfied: idna<4,>=2.5 in d:\\downloads\\anaconda\\envs\\tensorflow\\lib\\site-packages (from requests->webdriver-manager) (3.4)\n",
      "Requirement already satisfied: urllib3<3,>=1.21.1 in d:\\downloads\\anaconda\\envs\\tensorflow\\lib\\site-packages (from requests->webdriver-manager) (1.26.18)\n",
      "Requirement already satisfied: certifi>=2017.4.17 in d:\\downloads\\anaconda\\envs\\tensorflow\\lib\\site-packages (from requests->webdriver-manager) (2024.2.2)\n",
      "Downloading webdriver_manager-4.0.2-py2.py3-none-any.whl (27 kB)\n",
      "Downloading python_dotenv-1.1.0-py3-none-any.whl (20 kB)\n",
      "Installing collected packages: python-dotenv, webdriver-manager\n",
      "Successfully installed python-dotenv-1.1.0 webdriver-manager-4.0.2\n"
     ]
    }
   ],
   "source": [
    "!pip install webdriver-manager"
   ]
  },
  {
   "cell_type": "code",
   "execution_count": 28,
   "id": "57f243a8-57bb-480d-bbfd-99354593f3a5",
   "metadata": {},
   "outputs": [
    {
     "name": "stdin",
     "output_type": "stream",
     "text": [
      "🔐 Check if logged in. Press Enter to continue...  \n"
     ]
    },
    {
     "name": "stderr",
     "output_type": "stream",
     "text": [
      "Scraping Products:   2%|█                                                             | 1/57 [01:09<1:04:29, 69.09s/it]"
     ]
    },
    {
     "name": "stdout",
     "output_type": "stream",
     "text": [
      "✅ Reviews and rating for B0DSG8SNXH saved.\n"
     ]
    },
    {
     "name": "stderr",
     "output_type": "stream",
     "text": [
      "Scraping Products:   4%|██▏                                                           | 2/57 [02:17<1:03:09, 68.90s/it]"
     ]
    },
    {
     "name": "stdout",
     "output_type": "stream",
     "text": [
      "✅ Reviews and rating for B0DFY3XCB6 saved.\n"
     ]
    },
    {
     "name": "stderr",
     "output_type": "stream",
     "text": [
      "Scraping Products:   5%|███▎                                                          | 3/57 [03:26<1:01:58, 68.85s/it]"
     ]
    },
    {
     "name": "stdout",
     "output_type": "stream",
     "text": [
      "✅ Reviews and rating for B09TVVGXWS saved.\n"
     ]
    },
    {
     "name": "stderr",
     "output_type": "stream",
     "text": [
      "Scraping Products:   7%|████▎                                                         | 4/57 [04:35<1:00:46, 68.81s/it]"
     ]
    },
    {
     "name": "stdout",
     "output_type": "stream",
     "text": [
      "✅ Reviews and rating for B071Z8M4KX saved.\n"
     ]
    },
    {
     "name": "stderr",
     "output_type": "stream",
     "text": [
      "Scraping Products:   9%|█████▌                                                          | 5/57 [05:44<59:37, 68.79s/it]"
     ]
    },
    {
     "name": "stdout",
     "output_type": "stream",
     "text": [
      "✅ Reviews and rating for B0C8JB3G5W saved.\n"
     ]
    },
    {
     "name": "stderr",
     "output_type": "stream",
     "text": [
      "Scraping Products:  11%|██████▋                                                         | 6/57 [06:53<58:36, 68.95s/it]"
     ]
    },
    {
     "name": "stdout",
     "output_type": "stream",
     "text": [
      "✅ Reviews and rating for B07WFPL9PB saved.\n"
     ]
    },
    {
     "name": "stderr",
     "output_type": "stream",
     "text": [
      "Scraping Products:  12%|███████▊                                                        | 7/57 [08:02<57:30, 69.02s/it]"
     ]
    },
    {
     "name": "stdout",
     "output_type": "stream",
     "text": [
      "✅ Reviews and rating for B0D22QWQHR saved.\n"
     ]
    },
    {
     "name": "stderr",
     "output_type": "stream",
     "text": [
      "Scraping Products:  14%|████████▉                                                       | 8/57 [09:11<56:23, 69.05s/it]"
     ]
    },
    {
     "name": "stdout",
     "output_type": "stream",
     "text": [
      "✅ Reviews and rating for B0D3R1JQ7D saved.\n"
     ]
    },
    {
     "name": "stderr",
     "output_type": "stream",
     "text": [
      "Scraping Products:  16%|██████████                                                      | 9/57 [10:21<55:18, 69.14s/it]"
     ]
    },
    {
     "name": "stdout",
     "output_type": "stream",
     "text": [
      "✅ Reviews and rating for B07WHQHNZC saved.\n"
     ]
    },
    {
     "name": "stderr",
     "output_type": "stream",
     "text": [
      "Scraping Products:  18%|███████████                                                    | 10/57 [11:29<54:02, 68.99s/it]"
     ]
    },
    {
     "name": "stdout",
     "output_type": "stream",
     "text": [
      "✅ Reviews and rating for B077BFH786 saved.\n"
     ]
    },
    {
     "name": "stderr",
     "output_type": "stream",
     "text": [
      "Scraping Products:  19%|████████████▏                                                  | 11/57 [12:38<52:49, 68.91s/it]"
     ]
    },
    {
     "name": "stdout",
     "output_type": "stream",
     "text": [
      "✅ Reviews and rating for B098NS6PVG saved.\n"
     ]
    },
    {
     "name": "stderr",
     "output_type": "stream",
     "text": [
      "Scraping Products:  21%|█████████████▎                                                 | 12/57 [13:46<51:35, 68.80s/it]"
     ]
    },
    {
     "name": "stdout",
     "output_type": "stream",
     "text": [
      "✅ Reviews and rating for B0DH3J6LB9 saved.\n"
     ]
    },
    {
     "name": "stderr",
     "output_type": "stream",
     "text": [
      "Scraping Products:  23%|██████████████▎                                                | 13/57 [14:55<50:25, 68.77s/it]"
     ]
    },
    {
     "name": "stdout",
     "output_type": "stream",
     "text": [
      "✅ Reviews and rating for B07R3386PP saved.\n"
     ]
    },
    {
     "name": "stderr",
     "output_type": "stream",
     "text": [
      "Scraping Products:  25%|███████████████▍                                               | 14/57 [16:04<49:15, 68.73s/it]"
     ]
    },
    {
     "name": "stdout",
     "output_type": "stream",
     "text": [
      "✅ Reviews and rating for B0BDRVFDKP saved.\n"
     ]
    },
    {
     "name": "stderr",
     "output_type": "stream",
     "text": [
      "Scraping Products:  26%|████████████████▌                                              | 15/57 [17:12<48:06, 68.72s/it]"
     ]
    },
    {
     "name": "stdout",
     "output_type": "stream",
     "text": [
      "✅ Reviews and rating for B0CBTTCJL6 saved.\n"
     ]
    },
    {
     "name": "stderr",
     "output_type": "stream",
     "text": [
      "Scraping Products:  28%|█████████████████▋                                             | 16/57 [18:23<47:21, 69.31s/it]"
     ]
    },
    {
     "name": "stdout",
     "output_type": "stream",
     "text": [
      "✅ Reviews and rating for B0DFQ1R3W4 saved.\n"
     ]
    },
    {
     "name": "stderr",
     "output_type": "stream",
     "text": [
      "Scraping Products:  30%|██████████████████▊                                            | 17/57 [19:32<46:09, 69.23s/it]"
     ]
    },
    {
     "name": "stdout",
     "output_type": "stream",
     "text": [
      "✅ Reviews and rating for B07WHS99FG saved.\n"
     ]
    },
    {
     "name": "stderr",
     "output_type": "stream",
     "text": [
      "Scraping Products:  32%|███████████████████▉                                           | 18/57 [20:41<44:52, 69.04s/it]"
     ]
    },
    {
     "name": "stdout",
     "output_type": "stream",
     "text": [
      "✅ Reviews and rating for B0D2R2MXXJ saved.\n"
     ]
    },
    {
     "name": "stderr",
     "output_type": "stream",
     "text": [
      "Scraping Products:  33%|█████████████████████                                          | 19/57 [21:50<43:39, 68.94s/it]"
     ]
    },
    {
     "name": "stdout",
     "output_type": "stream",
     "text": [
      "✅ Reviews and rating for B0DCNWN8NZ saved.\n"
     ]
    },
    {
     "name": "stderr",
     "output_type": "stream",
     "text": [
      "Scraping Products:  35%|██████████████████████                                         | 20/57 [22:58<42:28, 68.88s/it]"
     ]
    },
    {
     "name": "stdout",
     "output_type": "stream",
     "text": [
      "✅ Reviews and rating for B0D63CNLJ9 saved.\n"
     ]
    },
    {
     "name": "stderr",
     "output_type": "stream",
     "text": [
      "Scraping Products:  37%|███████████████████████▏                                       | 21/57 [24:07<41:20, 68.90s/it]"
     ]
    },
    {
     "name": "stdout",
     "output_type": "stream",
     "text": [
      "✅ Reviews and rating for B0DSG51QM1 saved.\n"
     ]
    },
    {
     "name": "stderr",
     "output_type": "stream",
     "text": [
      "Scraping Products:  39%|████████████████████████▎                                      | 22/57 [25:16<40:08, 68.81s/it]"
     ]
    },
    {
     "name": "stdout",
     "output_type": "stream",
     "text": [
      "✅ Reviews and rating for B0D5YCYS1G saved.\n"
     ]
    },
    {
     "name": "stderr",
     "output_type": "stream",
     "text": [
      "Scraping Products:  40%|█████████████████████████▍                                     | 23/57 [26:25<39:02, 68.88s/it]"
     ]
    },
    {
     "name": "stdout",
     "output_type": "stream",
     "text": [
      "✅ Reviews and rating for B01DEWVZ2C saved.\n"
     ]
    },
    {
     "name": "stderr",
     "output_type": "stream",
     "text": [
      "Scraping Products:  42%|██████████████████████████▌                                    | 24/57 [27:34<37:51, 68.84s/it]"
     ]
    },
    {
     "name": "stdout",
     "output_type": "stream",
     "text": [
      "✅ Reviews and rating for B0CVN4DNWY saved.\n"
     ]
    },
    {
     "name": "stderr",
     "output_type": "stream",
     "text": [
      "Scraping Products:  44%|███████████████████████████▋                                   | 25/57 [28:43<36:43, 68.87s/it]"
     ]
    },
    {
     "name": "stdout",
     "output_type": "stream",
     "text": [
      "✅ Reviews and rating for B0CZ3ZPD8B saved.\n"
     ]
    },
    {
     "name": "stderr",
     "output_type": "stream",
     "text": [
      "Scraping Products:  46%|████████████████████████████▋                                  | 26/57 [29:51<35:32, 68.79s/it]"
     ]
    },
    {
     "name": "stdout",
     "output_type": "stream",
     "text": [
      "✅ Reviews and rating for B097JJ2CK6 saved.\n"
     ]
    },
    {
     "name": "stderr",
     "output_type": "stream",
     "text": [
      "Scraping Products:  47%|█████████████████████████████▊                                 | 27/57 [31:00<34:22, 68.74s/it]"
     ]
    },
    {
     "name": "stdout",
     "output_type": "stream",
     "text": [
      "✅ Reviews and rating for B0CRH561RC saved.\n"
     ]
    },
    {
     "name": "stderr",
     "output_type": "stream",
     "text": [
      "Scraping Products:  49%|██████████████████████████████▉                                | 28/57 [32:08<33:12, 68.70s/it]"
     ]
    },
    {
     "name": "stdout",
     "output_type": "stream",
     "text": [
      "✅ Reviews and rating for B0D7HZ3KK9 saved.\n"
     ]
    },
    {
     "name": "stderr",
     "output_type": "stream",
     "text": [
      "Scraping Products:  51%|████████████████████████████████                               | 29/57 [33:17<32:03, 68.71s/it]"
     ]
    },
    {
     "name": "stdout",
     "output_type": "stream",
     "text": [
      "✅ Reviews and rating for B0BZ3WNQ5T saved.\n"
     ]
    },
    {
     "name": "stderr",
     "output_type": "stream",
     "text": [
      "Scraping Products:  53%|█████████████████████████████████▏                             | 30/57 [34:26<30:55, 68.72s/it]"
     ]
    },
    {
     "name": "stdout",
     "output_type": "stream",
     "text": [
      "✅ Reviews and rating for B0CHX1W1XY saved.\n"
     ]
    },
    {
     "name": "stderr",
     "output_type": "stream",
     "text": [
      "Scraping Products:  54%|██████████████████████████████████▎                            | 31/57 [35:35<29:47, 68.75s/it]"
     ]
    },
    {
     "name": "stdout",
     "output_type": "stream",
     "text": [
      "✅ Reviews and rating for B0D7MNX9Y5 saved.\n"
     ]
    },
    {
     "name": "stderr",
     "output_type": "stream",
     "text": [
      "Scraping Products:  56%|███████████████████████████████████▎                           | 32/57 [36:43<28:38, 68.75s/it]"
     ]
    },
    {
     "name": "stdout",
     "output_type": "stream",
     "text": [
      "✅ Reviews and rating for B0BDYVC5TD saved.\n"
     ]
    },
    {
     "name": "stderr",
     "output_type": "stream",
     "text": [
      "Scraping Products:  58%|████████████████████████████████████▍                          | 33/57 [37:52<27:31, 68.80s/it]"
     ]
    },
    {
     "name": "stdout",
     "output_type": "stream",
     "text": [
      "✅ Reviews and rating for B0DLW427YG saved.\n"
     ]
    },
    {
     "name": "stderr",
     "output_type": "stream",
     "text": [
      "Scraping Products:  60%|█████████████████████████████████████▌                         | 34/57 [39:01<26:23, 68.86s/it]"
     ]
    },
    {
     "name": "stdout",
     "output_type": "stream",
     "text": [
      "✅ Reviews and rating for B09N3ZNHTY saved.\n"
     ]
    },
    {
     "name": "stderr",
     "output_type": "stream",
     "text": [
      "Scraping Products:  61%|██████████████████████████████████████▋                        | 35/57 [40:10<25:13, 68.78s/it]"
     ]
    },
    {
     "name": "stdout",
     "output_type": "stream",
     "text": [
      "✅ Reviews and rating for B0D18192T2 saved.\n"
     ]
    },
    {
     "name": "stderr",
     "output_type": "stream",
     "text": [
      "Scraping Products:  63%|███████████████████████████████████████▊                       | 36/57 [41:19<24:06, 68.88s/it]"
     ]
    },
    {
     "name": "stdout",
     "output_type": "stream",
     "text": [
      "✅ Reviews and rating for B0C5RK3X6F saved.\n"
     ]
    },
    {
     "name": "stderr",
     "output_type": "stream",
     "text": [
      "Scraping Products:  65%|████████████████████████████████████████▉                      | 37/57 [42:28<22:58, 68.92s/it]"
     ]
    },
    {
     "name": "stdout",
     "output_type": "stream",
     "text": [
      "✅ Reviews and rating for B0DFMHM9CM saved.\n"
     ]
    },
    {
     "name": "stderr",
     "output_type": "stream",
     "text": [
      "Scraping Products:  67%|██████████████████████████████████████████                     | 38/57 [43:37<21:49, 68.93s/it]"
     ]
    },
    {
     "name": "stdout",
     "output_type": "stream",
     "text": [
      "✅ Reviews and rating for B09R24JBYV saved.\n"
     ]
    },
    {
     "name": "stderr",
     "output_type": "stream",
     "text": [
      "Scraping Products:  68%|███████████████████████████████████████████                    | 39/57 [44:46<20:41, 68.97s/it]"
     ]
    },
    {
     "name": "stdout",
     "output_type": "stream",
     "text": [
      "✅ Reviews and rating for B0DZHXTPK1 saved.\n"
     ]
    },
    {
     "name": "stderr",
     "output_type": "stream",
     "text": [
      "Scraping Products:  70%|████████████████████████████████████████████▏                  | 40/57 [45:55<19:31, 68.90s/it]"
     ]
    },
    {
     "name": "stdout",
     "output_type": "stream",
     "text": [
      "✅ Reviews and rating for B0CP54XBWN saved.\n"
     ]
    },
    {
     "name": "stderr",
     "output_type": "stream",
     "text": [
      "Scraping Products:  72%|█████████████████████████████████████████████▎                 | 41/57 [47:04<18:23, 68.94s/it]"
     ]
    },
    {
     "name": "stdout",
     "output_type": "stream",
     "text": [
      "✅ Reviews and rating for B0DCZ3WDTB saved.\n"
     ]
    },
    {
     "name": "stderr",
     "output_type": "stream",
     "text": [
      "Scraping Products:  74%|██████████████████████████████████████████████▍                | 42/57 [48:12<17:12, 68.84s/it]"
     ]
    },
    {
     "name": "stdout",
     "output_type": "stream",
     "text": [
      "✅ Reviews and rating for B01HJI0FS2 saved.\n"
     ]
    },
    {
     "name": "stderr",
     "output_type": "stream",
     "text": [
      "Scraping Products:  75%|███████████████████████████████████████████████▌               | 43/57 [49:21<16:03, 68.82s/it]"
     ]
    },
    {
     "name": "stdout",
     "output_type": "stream",
     "text": [
      "✅ Reviews and rating for B07WHRZRD7 saved.\n"
     ]
    },
    {
     "name": "stderr",
     "output_type": "stream",
     "text": [
      "Scraping Products:  77%|████████████████████████████████████████████████▋              | 44/57 [50:30<14:55, 68.90s/it]"
     ]
    },
    {
     "name": "stdout",
     "output_type": "stream",
     "text": [
      "✅ Reviews and rating for B082WYMTWF saved.\n"
     ]
    },
    {
     "name": "stderr",
     "output_type": "stream",
     "text": [
      "Scraping Products:  79%|█████████████████████████████████████████████████▋             | 45/57 [51:39<13:46, 68.90s/it]"
     ]
    },
    {
     "name": "stdout",
     "output_type": "stream",
     "text": [
      "✅ Reviews and rating for B0B3MNYGTW saved.\n"
     ]
    },
    {
     "name": "stderr",
     "output_type": "stream",
     "text": [
      "Scraping Products:  81%|██████████████████████████████████████████████████▊            | 46/57 [52:48<12:37, 68.82s/it]"
     ]
    },
    {
     "name": "stdout",
     "output_type": "stream",
     "text": [
      "✅ Reviews and rating for B0DLW4QD72 saved.\n"
     ]
    },
    {
     "name": "stderr",
     "output_type": "stream",
     "text": [
      "Scraping Products:  82%|███████████████████████████████████████████████████▉           | 47/57 [53:57<11:27, 68.78s/it]"
     ]
    },
    {
     "name": "stdout",
     "output_type": "stream",
     "text": [
      "✅ Reviews and rating for B0D2R26HFV saved.\n"
     ]
    },
    {
     "name": "stderr",
     "output_type": "stream",
     "text": [
      "Scraping Products:  84%|█████████████████████████████████████████████████████          | 48/57 [55:06<10:20, 68.95s/it]"
     ]
    },
    {
     "name": "stdout",
     "output_type": "stream",
     "text": [
      "✅ Reviews and rating for B0DLW1L5PR saved.\n"
     ]
    },
    {
     "name": "stderr",
     "output_type": "stream",
     "text": [
      "Scraping Products:  86%|██████████████████████████████████████████████████████▏        | 49/57 [56:15<09:12, 69.01s/it]"
     ]
    },
    {
     "name": "stdout",
     "output_type": "stream",
     "text": [
      "✅ Reviews and rating for B07XCM6T4N saved.\n"
     ]
    },
    {
     "name": "stderr",
     "output_type": "stream",
     "text": [
      "Scraping Products:  88%|███████████████████████████████████████████████████████▎       | 50/57 [57:24<08:03, 69.11s/it]"
     ]
    },
    {
     "name": "stdout",
     "output_type": "stream",
     "text": [
      "✅ Reviews and rating for B0BG8LZNYL saved.\n"
     ]
    },
    {
     "name": "stderr",
     "output_type": "stream",
     "text": [
      "Scraping Products:  89%|████████████████████████████████████████████████████████▎      | 51/57 [58:33<06:54, 69.07s/it]"
     ]
    },
    {
     "name": "stdout",
     "output_type": "stream",
     "text": [
      "✅ Reviews and rating for B00LVMTA2A saved.\n"
     ]
    },
    {
     "name": "stderr",
     "output_type": "stream",
     "text": [
      "Scraping Products:  91%|█████████████████████████████████████████████████████████▍     | 52/57 [59:42<05:44, 69.00s/it]"
     ]
    },
    {
     "name": "stdout",
     "output_type": "stream",
     "text": [
      "✅ Reviews and rating for B00MVV81MK saved.\n"
     ]
    },
    {
     "name": "stderr",
     "output_type": "stream",
     "text": [
      "Scraping Products:  93%|████████████████████████████████████████████████████████▋    | 53/57 [1:00:51<04:35, 68.96s/it]"
     ]
    },
    {
     "name": "stdout",
     "output_type": "stream",
     "text": [
      "✅ Reviews and rating for B0CHX2F5QT saved.\n"
     ]
    },
    {
     "name": "stderr",
     "output_type": "stream",
     "text": [
      "Scraping Products:  95%|█████████████████████████████████████████████████████████▊   | 54/57 [1:02:01<03:27, 69.14s/it]"
     ]
    },
    {
     "name": "stdout",
     "output_type": "stream",
     "text": [
      "✅ Reviews and rating for B0DLW44CGS saved.\n"
     ]
    },
    {
     "name": "stderr",
     "output_type": "stream",
     "text": [
      "Scraping Products:  96%|██████████████████████████████████████████████████████████▊  | 55/57 [1:03:10<02:18, 69.10s/it]"
     ]
    },
    {
     "name": "stdout",
     "output_type": "stream",
     "text": [
      "✅ Reviews and rating for B09ZPL5VYM saved.\n"
     ]
    },
    {
     "name": "stderr",
     "output_type": "stream",
     "text": [
      "Scraping Products:  98%|███████████████████████████████████████████████████████████▉ | 56/57 [1:04:19<01:09, 69.27s/it]"
     ]
    },
    {
     "name": "stdout",
     "output_type": "stream",
     "text": [
      "✅ Reviews and rating for B0CHX3TW6X saved.\n"
     ]
    },
    {
     "name": "stderr",
     "output_type": "stream",
     "text": [
      "Scraping Products: 100%|█████████████████████████████████████████████████████████████| 57/57 [1:05:29<00:00, 68.93s/it]"
     ]
    },
    {
     "name": "stdout",
     "output_type": "stream",
     "text": [
      "✅ Reviews and rating for B0DH8BZ7V9 saved.\n"
     ]
    },
    {
     "name": "stderr",
     "output_type": "stream",
     "text": [
      "\n"
     ]
    }
   ],
   "source": [
    "import os\n",
    "import re\n",
    "import time\n",
    "import pickle\n",
    "import pandas as pd\n",
    "from tqdm import tqdm\n",
    "from selenium import webdriver\n",
    "from selenium.webdriver.common.by import By\n",
    "from selenium.webdriver.chrome.options import Options\n",
    "from selenium.webdriver.chrome.service import Service\n",
    "from webdriver_manager.chrome import ChromeDriverManager\n",
    "\n",
    "# Paths\n",
    "cookies_path = '../notebooks/cookies'\n",
    "urls_path = '../data/raw/review_urls.txt'\n",
    "output_csv = '../data/raw/amazon_reviews_raw.csv'\n",
    "\n",
    "# Load cookies\n",
    "def load_cookies(driver, cookies_path):\n",
    "    for file in os.listdir(cookies_path):\n",
    "        if file.endswith('.pkl'):\n",
    "            cookies = pickle.load(open(os.path.join(cookies_path, file), \"rb\"))\n",
    "            for cookie in cookies:\n",
    "                if 'sameSite' in cookie and cookie['sameSite'] == 'None':\n",
    "                    cookie['sameSite'] = 'Strict'\n",
    "                driver.add_cookie(cookie)\n",
    "\n",
    "# Scroll to load all dynamic reviews\n",
    "def scroll_to_load_reviews(driver, pause=2):\n",
    "    last_height = driver.execute_script(\"return document.body.scrollHeight\")\n",
    "    for _ in range(8):\n",
    "        driver.execute_script(\"window.scrollTo(0, document.body.scrollHeight);\")\n",
    "        time.sleep(pause)\n",
    "        new_height = driver.execute_script(\"return document.body.scrollHeight\")\n",
    "        if new_height == last_height:\n",
    "            break\n",
    "        last_height = new_height\n",
    "\n",
    "# Extract review texts only from current page\n",
    "def extract_reviews_on_page(driver):\n",
    "    reviews = []\n",
    "    review_elements = driver.find_elements(By.CSS_SELECTOR, \".review\")\n",
    "    for r in review_elements:\n",
    "        try:\n",
    "            text = r.find_element(By.CSS_SELECTOR, \".review-text-content span\").text.strip()\n",
    "            reviews.append(text)\n",
    "        except:\n",
    "            continue\n",
    "    return reviews\n",
    "\n",
    "# Click next page if exists\n",
    "def click_next_page(driver):\n",
    "    try:\n",
    "        next_button = driver.find_element(By.CSS_SELECTOR, \"li.a-last a\")\n",
    "        driver.execute_script(\"arguments[0].scrollIntoView();\", next_button)\n",
    "        time.sleep(1.5)\n",
    "        next_button.click()\n",
    "        return True\n",
    "    except:\n",
    "        return False\n",
    "\n",
    "# Extract overall product rating\n",
    "def extract_overall_product_rating(driver):\n",
    "    try:\n",
    "        rating_element = driver.find_element(By.CSS_SELECTOR, 'span[data-hook=\"rating-out-of-text\"]')\n",
    "        rating_text = rating_element.text.strip()\n",
    "        match = re.search(r'([\\d.]+)', rating_text)\n",
    "        return float(match.group(1)) if match else \"\"\n",
    "    except:\n",
    "        return \"\"\n",
    "\n",
    "# Extract product ID from URL\n",
    "def extract_product_id(url):\n",
    "    match = re.search(r'/product-reviews/([A-Z0-9]{10})', url)\n",
    "    return match.group(1) if match else None\n",
    "\n",
    "# Get already scraped productIDs\n",
    "def get_completed_product_ids(output_csv):\n",
    "    if os.path.exists(output_csv) and os.path.getsize(output_csv) > 0:\n",
    "        try:\n",
    "            df = pd.read_csv(output_csv)\n",
    "            if \"productID\" in df.columns:\n",
    "                return set(df[\"productID\"].dropna().astype(str).unique())\n",
    "        except Exception as e:\n",
    "            print(f\"⚠️ Error reading existing CSV: {e}\")\n",
    "    return set()\n",
    "\n",
    "# Scrape reviews\n",
    "def scrape_amazon_reviews(driver, product_urls, max_reviews_per_product=500):\n",
    "    completed_ids = get_completed_product_ids(output_csv)\n",
    "\n",
    "    for url in tqdm(product_urls, desc=\"Scraping Products\"):\n",
    "        product_id = extract_product_id(url)\n",
    "        if not product_id or product_id in completed_ids:\n",
    "            continue\n",
    "\n",
    "        driver.get(url)\n",
    "        time.sleep(3)\n",
    "\n",
    "        overall_rating = extract_overall_product_rating(driver)\n",
    "        reviews_collected = []\n",
    "\n",
    "        while len(reviews_collected) < max_reviews_per_product:\n",
    "            scroll_to_load_reviews(driver)\n",
    "            page_reviews = extract_reviews_on_page(driver)\n",
    "\n",
    "            for text in page_reviews:\n",
    "                if text and len(reviews_collected) < max_reviews_per_product:\n",
    "                    reviews_collected.append(text)\n",
    "\n",
    "            if not click_next_page(driver):\n",
    "                break\n",
    "            time.sleep(3)\n",
    "\n",
    "        # Prepare row with review1...review500\n",
    "        row = {\n",
    "            \"productID\": product_id,\n",
    "            \"overall_rating\": overall_rating\n",
    "        }\n",
    "\n",
    "        for i in range(max_reviews_per_product):\n",
    "            row[f\"review{i+1}\"] = reviews_collected[i] if i < len(reviews_collected) else \"\"\n",
    "\n",
    "        # Safe CSV save\n",
    "        try:\n",
    "            df_existing = pd.read_csv(output_csv) if os.path.exists(output_csv) and os.path.getsize(output_csv) > 0 else pd.DataFrame()\n",
    "        except Exception as e:\n",
    "            print(f\"⚠️ Could not load existing CSV: {e}\")\n",
    "            df_existing = pd.DataFrame()\n",
    "\n",
    "        df_new = pd.DataFrame([row])\n",
    "        df_combined = pd.concat([df_existing, df_new], ignore_index=True)\n",
    "        df_combined.to_csv(output_csv, index=False)\n",
    "\n",
    "        print(f\"✅ Reviews and rating for {product_id} saved.\")\n",
    "\n",
    "# Setup Selenium\n",
    "options = Options()\n",
    "options.add_argument('--start-maximized')\n",
    "options.add_argument('--disable-blink-features=AutomationControlled')\n",
    "driver = webdriver.Chrome(service=Service(ChromeDriverManager().install()), options=options)\n",
    "\n",
    "# Inject cookies\n",
    "driver.get(\"https://www.amazon.in\")\n",
    "time.sleep(3)\n",
    "load_cookies(driver, cookies_path)\n",
    "driver.refresh()\n",
    "time.sleep(5)\n",
    "input(\"🔐 Check if logged in. Press Enter to continue... \")\n",
    "\n",
    "# Load URLs\n",
    "with open(urls_path, 'r') as f:\n",
    "    all_urls = [line.strip() for line in f if line.strip()]\n",
    "\n",
    "# Test mode control\n",
    "test_mode = True\n",
    "num_test_products = 57\n",
    "product_urls = all_urls[:num_test_products] if test_mode else all_urls\n",
    "\n",
    "# Start scraper\n",
    "scrape_amazon_reviews(driver, product_urls)\n",
    "driver.quit()\n"
   ]
  },
  {
   "cell_type": "code",
   "execution_count": null,
   "id": "7427cffd-c81c-40c2-a4eb-33304399eacd",
   "metadata": {},
   "outputs": [],
   "source": []
  },
  {
   "cell_type": "code",
   "execution_count": null,
   "id": "20119a61-0d25-4d00-9dd2-23e3e9042375",
   "metadata": {},
   "outputs": [],
   "source": []
  }
 ],
 "metadata": {
  "kernelspec": {
   "display_name": "Python 3 (ipykernel)",
   "language": "python",
   "name": "python3"
  },
  "language_info": {
   "codemirror_mode": {
    "name": "ipython",
    "version": 3
   },
   "file_extension": ".py",
   "mimetype": "text/x-python",
   "name": "python",
   "nbconvert_exporter": "python",
   "pygments_lexer": "ipython3",
   "version": "3.10.13"
  }
 },
 "nbformat": 4,
 "nbformat_minor": 5
}

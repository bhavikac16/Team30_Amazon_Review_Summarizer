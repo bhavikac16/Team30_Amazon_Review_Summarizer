{
 "cells": [
  {
   "cell_type": "code",
   "execution_count": 6,
   "id": "2b08872a-3331-4428-a6a7-13412b003cfa",
   "metadata": {},
   "outputs": [
    {
     "name": "stdout",
     "output_type": "stream",
     "text": [
      "🔐 Please login to Amazon or solve the CAPTCHA manually in the opened browser.\n",
      "🧁 Number of cookies collected: 13\n",
      "✅ Saving cookies...\n",
      "🎉 Cookies saved to cookies/amazon_cookies.pkl\n"
     ]
    }
   ],
   "source": [
    "import undetected_chromedriver as uc\n",
    "import time\n",
    "import pickle\n",
    "import os\n",
    "\n",
    "options = uc.ChromeOptions()\n",
    "driver = uc.Chrome(options=options)\n",
    "\n",
    "# Open Amazon.in\n",
    "driver.get(\"https://www.amazon.in\")\n",
    "print(\"🔐 Please login to Amazon or solve the CAPTCHA manually in the opened browser.\")\n",
    "\n",
    "# Wait for you to do that\n",
    "time.sleep(60)\n",
    "\n",
    "# Get and show cookies\n",
    "cookies = driver.get_cookies()\n",
    "print(f\"🧁 Number of cookies collected: {len(cookies)}\")\n",
    "print(\"✅ Saving cookies...\")\n",
    "\n",
    "# Save them to file\n",
    "os.makedirs(\"cookies\", exist_ok=True)\n",
    "with open(\"cookies/amazon_cookies.pkl\", \"wb\") as f:\n",
    "    pickle.dump(cookies, f)\n",
    "\n",
    "print(\"🎉 Cookies saved to cookies/amazon_cookies.pkl\")\n",
    "driver.quit()\n"
   ]
  },
  {
   "cell_type": "code",
   "execution_count": null,
   "id": "ce4ccdf2-6518-416d-ac47-74f154c032f0",
   "metadata": {},
   "outputs": [],
   "source": []
  }
 ],
 "metadata": {
  "kernelspec": {
   "display_name": "Python 3 (ipykernel)",
   "language": "python",
   "name": "python3"
  },
  "language_info": {
   "codemirror_mode": {
    "name": "ipython",
    "version": 3
   },
   "file_extension": ".py",
   "mimetype": "text/x-python",
   "name": "python",
   "nbconvert_exporter": "python",
   "pygments_lexer": "ipython3",
   "version": "3.10.13"
  }
 },
 "nbformat": 4,
 "nbformat_minor": 5
}

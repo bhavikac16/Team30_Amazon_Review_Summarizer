{
 "cells": [
  {
   "cell_type": "code",
   "execution_count": 2,
   "id": "7d1db8a0-bc17-47d1-aa27-d9dc444ed876",
   "metadata": {},
   "outputs": [
    {
     "name": "stdout",
     "output_type": "stream",
     "text": [
      "Cookies loaded successfully!\n"
     ]
    }
   ],
   "source": [
    "\n",
    "\n",
    "import pickle\n",
    "import undetected_chromedriver as uc\n",
    "import os\n",
    "import time\n",
    "\n",
    "options = uc.ChromeOptions()\n",
    "driver = uc.Chrome(options=options)\n",
    "\n",
    "# Open Amazon page\n",
    "driver.get(\"https://www.amazon.in\")\n",
    "cookies_path = \"cookies/amazon_cookies.pkl\"\n",
    "\n",
    "# Load and apply cookies\n",
    "if os.path.exists(cookies_path):\n",
    "    with open(cookies_path, \"rb\") as f:\n",
    "        cookies = pickle.load(f)\n",
    "        for cookie in cookies:\n",
    "            if \"sameSite\" in cookie:\n",
    "                if cookie[\"sameSite\"] == \"None\":\n",
    "                    cookie[\"sameSite\"] = \"Strict\"\n",
    "            driver.add_cookie(cookie)\n",
    "\n",
    "    print(\"Cookies loaded successfully!\")\n",
    "    driver.get(\"https://www.amazon.in\")  # Reload page with cookies applied\n",
    "    time.sleep(5)\n",
    "else:\n",
    "    print(\"Cookie file not found. Run save_cookies.py first.\")\n"
   ]
  },
  {
   "cell_type": "code",
   "execution_count": null,
   "id": "42648e3e-a539-4331-90e8-cd1eca4651db",
   "metadata": {},
   "outputs": [],
   "source": []
  }
 ],
 "metadata": {
  "kernelspec": {
   "display_name": "Python 3 (ipykernel)",
   "language": "python",
   "name": "python3"
  },
  "language_info": {
   "codemirror_mode": {
    "name": "ipython",
    "version": 3
   },
   "file_extension": ".py",
   "mimetype": "text/x-python",
   "name": "python",
   "nbconvert_exporter": "python",
   "pygments_lexer": "ipython3",
   "version": "3.10.13"
  }
 },
 "nbformat": 4,
 "nbformat_minor": 5
}
